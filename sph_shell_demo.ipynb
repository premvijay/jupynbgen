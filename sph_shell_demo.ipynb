{
 "cells": [
  {
   "cell_type": "code",
   "execution_count": 1,
   "id": "occasional-quest",
   "metadata": {},
   "outputs": [],
   "source": [
    "import numpy as np"
   ]
  },
  {
   "cell_type": "code",
   "execution_count": 2,
   "id": "boxed-substance",
   "metadata": {},
   "outputs": [],
   "source": [
    "import matplotlib.pyplot as plt"
   ]
  },
  {
   "cell_type": "code",
   "execution_count": 5,
   "id": "modern-concert",
   "metadata": {},
   "outputs": [],
   "source": [
    "from scipy.special import erf\n",
    "from scipy.integrate import quad\n",
    "from numpy import pi, sqrt, exp"
   ]
  },
  {
   "cell_type": "code",
   "execution_count": 6,
   "id": "likely-picnic",
   "metadata": {},
   "outputs": [],
   "source": [
    "# r =4;R=5"
   ]
  },
  {
   "cell_type": "code",
   "execution_count": 7,
   "id": "blocked-nomination",
   "metadata": {},
   "outputs": [],
   "source": [
    "# def gaussian_integ_sphere_indef(r, R):\n",
    "#     return np.sqrt(pi)/sqrt(2)* ( erf((r - R)/sqrt(2)) + erf((r + R)/sqrt(2)) ) - ( (exp(-1/2 *(r - R)**2) - exp(-1/2 *(r + R)**2))) /R"
   ]
  },
  {
   "cell_type": "code",
   "execution_count": 8,
   "id": "solid-clarity",
   "metadata": {},
   "outputs": [],
   "source": [
    "def gaussian_integ_sphere_indef(Rad, prtcl_pos_r, h=1):\n",
    "    Rad_h = Rad/h\n",
    "    pos_r_h = prtcl_pos_r/h\n",
    "    r, R = np.meshgrid(Rad_h, pos_r_h, copy=False)\n",
    "    ans = ( erf((r - R)/sqrt(2)) + erf((r + R)/sqrt(2)) ) /2 - ( (exp(-1/2 *(r - R)**2) - exp(-1/2 *(r + R)**2)) ) /sqrt(2*pi)/R\n",
    "    return ans.squeeze()"
   ]
  },
  {
   "cell_type": "code",
   "execution_count": 9,
   "id": "documentary-newfoundland",
   "metadata": {},
   "outputs": [],
   "source": [
    "def gaussian_integ_sphere_defab(a,b):\n",
    "    return gaussian_integ_sphere_indef(a)-gaussian_integ_sphere_indef(b)"
   ]
  },
  {
   "cell_type": "code",
   "execution_count": 10,
   "id": "conservative-mentor",
   "metadata": {},
   "outputs": [],
   "source": [
    "pos_r = np.random.rand(10000)*15\n",
    "pos_r = np.ones(10000)*5\n",
    "Rad_bin = np.linspace(0,10)"
   ]
  },
  {
   "cell_type": "code",
   "execution_count": 26,
   "id": "moral-zoning",
   "metadata": {},
   "outputs": [],
   "source": [
    "r, R = np.meshgrid(Rad_bin, pos_r, copy=False)"
   ]
  },
  {
   "cell_type": "code",
   "execution_count": 12,
   "id": "smooth-advisory",
   "metadata": {},
   "outputs": [],
   "source": [
    "# r.squeeze().shape"
   ]
  },
  {
   "cell_type": "code",
   "execution_count": 13,
   "id": "utility-hotel",
   "metadata": {},
   "outputs": [
    {
     "name": "stdout",
     "output_type": "stream",
     "text": [
      "Wall time: 159 ms\n"
     ]
    }
   ],
   "source": [
    "%time ans= gaussian_integ_sphere_indef(Rad_bin,pos_r)"
   ]
  },
  {
   "cell_type": "code",
   "execution_count": 14,
   "id": "wanted-sperm",
   "metadata": {},
   "outputs": [
    {
     "data": {
      "text/plain": [
       "2.5066282746310002"
      ]
     },
     "execution_count": 14,
     "metadata": {},
     "output_type": "execute_result"
    }
   ],
   "source": [
    "sqrt(pi*2)"
   ]
  },
  {
   "cell_type": "code",
   "execution_count": 15,
   "id": "massive-journalism",
   "metadata": {},
   "outputs": [
    {
     "data": {
      "text/plain": [
       "array([0.00000000e+00, 9.21709647e-09, 9.48089423e-08, 4.63650781e-07,\n",
       "       1.71873773e-06, 5.48040837e-06, 1.57754851e-05, 4.19368337e-05,\n",
       "       1.04241787e-04, 2.44116753e-04, 5.41280654e-04, 1.14034198e-03,\n",
       "       2.28856350e-03, 4.38414803e-03, 8.03006952e-03, 1.40824111e-02,\n",
       "       2.36756872e-02, 3.82032493e-02, 5.92318747e-02, 8.83388161e-02,\n",
       "       1.26877548e-01, 1.75702180e-01, 2.34903164e-01, 3.03619545e-01,\n",
       "       3.79987995e-01, 4.61263718e-01, 5.44108129e-01, 6.24994671e-01,\n",
       "       7.00651656e-01, 7.68450968e-01, 8.26667227e-01, 8.74567872e-01,\n",
       "       9.12337996e-01, 9.40880646e-01, 9.61553732e-01, 9.75905498e-01,\n",
       "       9.85455783e-01, 9.91547760e-01, 9.95272959e-01, 9.97456729e-01,\n",
       "       9.98684016e-01, 9.99345290e-01, 9.99686897e-01, 9.99856095e-01,\n",
       "       9.99936447e-01, 9.99973035e-01, 9.99989009e-01, 9.99995697e-01,\n",
       "       9.99998382e-01, 9.99999416e-01])"
      ]
     },
     "execution_count": 15,
     "metadata": {},
     "output_type": "execute_result"
    }
   ],
   "source": [
    "ans[0]"
   ]
  },
  {
   "cell_type": "code",
   "execution_count": 16,
   "id": "respective-marketplace",
   "metadata": {},
   "outputs": [
    {
     "data": {
      "text/plain": [
       "[<matplotlib.lines.Line2D at 0x1cea8f88b20>]"
      ]
     },
     "execution_count": 16,
     "metadata": {},
     "output_type": "execute_result"
    },
    {
     "data": {
      "image/png": "[encoded data removed]",
      "text/plain": [
       "<Figure size 432x288 with 1 Axes>"
      ]
     },
     "metadata": {
      "needs_background": "light"
     },
     "output_type": "display_data"
    }
   ],
   "source": [
    "plt.plot(Rad_bin, gaussian_integ_sphere_indef(Rad_bin,5,.3))"
   ]
  },
  {
   "cell_type": "code",
   "execution_count": null,
   "id": "graduate-entity",
   "metadata": {},
   "outputs": [],
   "source": []
  },
  {
   "cell_type": "code",
   "execution_count": 17,
   "id": "north-wrong",
   "metadata": {},
   "outputs": [
    {
     "data": {
      "text/plain": [
       "array(0.7929506)"
      ]
     },
     "execution_count": 17,
     "metadata": {},
     "output_type": "execute_result"
    }
   ],
   "source": [
    "gaussian_integ_sphere_indef(6, 5)"
   ]
  },
  {
   "cell_type": "code",
   "execution_count": 18,
   "id": "personalized-stretch",
   "metadata": {},
   "outputs": [
    {
     "data": {
      "text/plain": [
       "-1.0"
      ]
     },
     "execution_count": 18,
     "metadata": {},
     "output_type": "execute_result"
    }
   ],
   "source": [
    "erf(-10)"
   ]
  },
  {
   "cell_type": "code",
   "execution_count": 19,
   "id": "patent-evening",
   "metadata": {},
   "outputs": [],
   "source": [
    "def I_rad(r,R):\n",
    "    return 1/sqrt(2*pi) * ( (exp(-1/2 * (r - R)**2) * r)/R - (exp(-1/2 * (r + R)**2) * r)/R )"
   ]
  },
  {
   "cell_type": "code",
   "execution_count": 22,
   "id": "joint-profession",
   "metadata": {},
   "outputs": [
    {
     "data": {
      "text/plain": [
       "[<matplotlib.lines.Line2D at 0x1cea9bd0eb0>]"
      ]
     },
     "execution_count": 22,
     "metadata": {},
     "output_type": "execute_result"
    },
    {
     "data": {
      "image/png": "[encoded data removed]",
      "text/plain": [
       "<Figure size 432x288 with 1 Axes>"
      ]
     },
     "metadata": {
      "needs_background": "light"
     },
     "output_type": "display_data"
    }
   ],
   "source": [
    "plt.plot(Rad_bin, I_rad(Rad_bin,0.1))"
   ]
  },
  {
   "cell_type": "code",
   "execution_count": null,
   "id": "twelve-indiana",
   "metadata": {},
   "outputs": [],
   "source": []
  },
  {
   "cell_type": "code",
   "execution_count": 23,
   "id": "phantom-austria",
   "metadata": {},
   "outputs": [],
   "source": [
    "# for R in np.linspace(0.01,15):\n",
    "#     print( R, quad(I_rad, 0,10, args=R) )"
   ]
  },
  {
   "cell_type": "code",
   "execution_count": 24,
   "id": "conditional-craps",
   "metadata": {},
   "outputs": [
    {
     "data": {
      "text/plain": [
       "array([9.21709647e-09, 8.55918458e-08, 3.68841839e-07, 1.25508695e-06,\n",
       "       3.76167065e-06, 1.02950767e-05, 2.61613486e-05, 6.23049532e-05,\n",
       "       1.39874966e-04, 2.97163901e-04, 5.99061327e-04, 1.14822152e-03,\n",
       "       2.09558453e-03, 3.64592148e-03, 6.05234155e-03, 9.59327612e-03,\n",
       "       1.45275621e-02, 2.10286255e-02, 2.91069414e-02, 3.85387317e-02,\n",
       "       4.88246320e-02, 5.92009838e-02, 6.87163813e-02, 7.63684500e-02,\n",
       "       8.12757226e-02, 8.28444113e-02, 8.08865418e-02, 7.56569851e-02,\n",
       "       6.77993123e-02, 5.82162589e-02, 4.79006454e-02, 3.77701232e-02,\n",
       "       2.85426502e-02, 2.06730858e-02, 1.43517666e-02, 9.55028494e-03,\n",
       "       6.09197664e-03, 3.72519876e-03, 2.18377006e-03, 1.22728719e-03,\n",
       "       6.61274452e-04, 3.41607084e-04, 1.69197499e-04, 8.03515830e-05,\n",
       "       3.65880313e-05, 1.59748834e-05, 6.68805258e-06, 2.68493421e-06,\n",
       "       1.03358859e-06])"
      ]
     },
     "execution_count": 24,
     "metadata": {},
     "output_type": "execute_result"
    }
   ],
   "source": [
    "ans[0,1:]-ans[0,:-1]"
   ]
  },
  {
   "cell_type": "code",
   "execution_count": 27,
   "id": "opponent-smith",
   "metadata": {},
   "outputs": [
    {
     "data": {
      "text/plain": [
       "[<matplotlib.lines.Line2D at 0x1cea9c34d60>]"
      ]
     },
     "execution_count": 27,
     "metadata": {},
     "output_type": "execute_result"
    },
    {
     "data": {
      "image/png": "[encoded data removed]",
      "text/plain": [
       "<Figure size 432x288 with 1 Axes>"
      ]
     },
     "metadata": {
      "needs_background": "light"
     },
     "output_type": "display_data"
    }
   ],
   "source": [
    "plt.plot((r[0,1:]+r[0,:-1])/2, ans[0,1:]-ans[0,:-1])"
   ]
  },
  {
   "cell_type": "code",
   "execution_count": null,
   "id": "specified-settlement",
   "metadata": {},
   "outputs": [],
   "source": []
  }
 ],
 "metadata": {
  "kernelspec": {
   "display_name": "Python 3",
   "language": "python",
   "name": "python3"
  },
  "language_info": {
   "codemirror_mode": {
    "name": "ipython",
    "version": 3
   },
   "file_extension": ".py",
   "mimetype": "text/x-python",
   "name": "python",
   "nbconvert_exporter": "python",
   "pygments_lexer": "ipython3",
   "version": "3.9.2"
  }
 },
 "nbformat": 4,
 "nbformat_minor": 5
}
