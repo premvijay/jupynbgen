{
 "cells": [
  {
   "cell_type": "code",
   "execution_count": 1,
   "id": "reliable-arthritis",
   "metadata": {},
   "outputs": [],
   "source": [
    "import numpy as np\n",
    "from time import time"
   ]
  },
  {
   "cell_type": "code",
   "execution_count": 2,
   "id": "informative-holocaust",
   "metadata": {},
   "outputs": [],
   "source": [
    "z = np.array([0,0.25,0.5,1,1.5,2,3,4,7,9])"
   ]
  },
  {
   "cell_type": "code",
   "execution_count": 3,
   "id": "precise-fifty",
   "metadata": {},
   "outputs": [],
   "source": [
    "a = 1/(1+z)"
   ]
  },
  {
   "cell_type": "code",
   "execution_count": 4,
   "id": "surprised-connectivity",
   "metadata": {},
   "outputs": [],
   "source": [
    "# for time in a:\n",
    "#     print(time)"
   ]
  },
  {
   "cell_type": "code",
   "execution_count": 5,
   "id": "impaired-hawaii",
   "metadata": {},
   "outputs": [
    {
     "data": {
      "text/plain": [
       "array([1.25      , 1.2       , 1.33333333, 1.25      , 1.2       ,\n",
       "       1.33333333, 1.25      , 1.6       , 1.25      ])"
      ]
     },
     "execution_count": 5,
     "metadata": {},
     "output_type": "execute_result"
    }
   ],
   "source": [
    "a[:-1]/a[1:]"
   ]
  },
  {
   "cell_type": "code",
   "execution_count": 6,
   "id": "communist-liberia",
   "metadata": {},
   "outputs": [],
   "source": [
    "# from pathos.multiprocessing import ProcessingPool"
   ]
  },
  {
   "cell_type": "code",
   "execution_count": 32,
   "id": "stable-highland",
   "metadata": {},
   "outputs": [],
   "source": [
    "from scipy.spatial import cKDTree"
   ]
  },
  {
   "cell_type": "code",
   "execution_count": 29,
   "id": "grateful-aspect",
   "metadata": {},
   "outputs": [],
   "source": [
    "from sklearn.neighbors import KDTree"
   ]
  },
  {
   "cell_type": "code",
   "execution_count": 30,
   "id": "oriental-image",
   "metadata": {},
   "outputs": [],
   "source": [
    "pos = np.random.uniform(low=0, high=10, size=(200,2))"
   ]
  },
  {
   "cell_type": "code",
   "execution_count": 31,
   "id": "caring-orientation",
   "metadata": {},
   "outputs": [],
   "source": [
    "# pos"
   ]
  },
  {
   "cell_type": "code",
   "execution_count": 33,
   "id": "naughty-wednesday",
   "metadata": {},
   "outputs": [
    {
     "name": "stdout",
     "output_type": "stream",
     "text": [
      "0.0009508132934570312\n"
     ]
    }
   ],
   "source": [
    "t_now = time()\n",
    "kdt = cKDTree(pos)\n",
    "t_bef, t_now = t_now, time()\n",
    "print(t_now-t_bef)"
   ]
  },
  {
   "cell_type": "code",
   "execution_count": 34,
   "id": "embedded-nursing",
   "metadata": {},
   "outputs": [],
   "source": [
    "# kdt.tree"
   ]
  },
  {
   "cell_type": "code",
   "execution_count": 35,
   "id": "cross-cemetery",
   "metadata": {},
   "outputs": [],
   "source": [
    "# dir(tree), workers=32"
   ]
  },
  {
   "cell_type": "code",
   "execution_count": 36,
   "id": "martial-destination",
   "metadata": {},
   "outputs": [
    {
     "name": "stdout",
     "output_type": "stream",
     "text": [
      "0.004662513732910156\n"
     ]
    }
   ],
   "source": [
    "t_bef, t_now = t_now, time()\n",
    "for i in range(30,65):\n",
    "    kdt.query(pos[i:i+1], 50)\n",
    "t_bef, t_now = t_now, time()\n",
    "print(t_now-t_bef)"
   ]
  },
  {
   "cell_type": "code",
   "execution_count": 38,
   "id": "fresh-equity",
   "metadata": {},
   "outputs": [],
   "source": [
    "neigh = kdt.query(np.array([[7,7], [0,0]]), 50, distance_upper_bound=1)[1]"
   ]
  },
  {
   "cell_type": "code",
   "execution_count": 27,
   "id": "specific-princeton",
   "metadata": {},
   "outputs": [],
   "source": [
    "neigh = kdt.query_radius(np.array([[7,7], [0,0]]), .2)"
   ]
  },
  {
   "cell_type": "code",
   "execution_count": 39,
   "id": "oriented-northern",
   "metadata": {},
   "outputs": [
    {
     "data": {
      "text/plain": [
       "array([[ 24, 146,  55,   5,  74,  38, 130, 200, 200, 200, 200, 200, 200,\n",
       "        200, 200, 200, 200, 200, 200, 200, 200, 200, 200, 200, 200, 200,\n",
       "        200, 200, 200, 200, 200, 200, 200, 200, 200, 200, 200, 200, 200,\n",
       "        200, 200, 200, 200, 200, 200, 200, 200, 200, 200, 200],\n",
       "       [200, 200, 200, 200, 200, 200, 200, 200, 200, 200, 200, 200, 200,\n",
       "        200, 200, 200, 200, 200, 200, 200, 200, 200, 200, 200, 200, 200,\n",
       "        200, 200, 200, 200, 200, 200, 200, 200, 200, 200, 200, 200, 200,\n",
       "        200, 200, 200, 200, 200, 200, 200, 200, 200, 200, 200]])"
      ]
     },
     "execution_count": 39,
     "metadata": {},
     "output_type": "execute_result"
    }
   ],
   "source": [
    "neigh "
   ]
  },
  {
   "cell_type": "code",
   "execution_count": 101,
   "id": "heavy-feeling",
   "metadata": {},
   "outputs": [],
   "source": [
    "import matplotlib.pyplot as plt"
   ]
  },
  {
   "cell_type": "code",
   "execution_count": 102,
   "id": "collectible-ontario",
   "metadata": {},
   "outputs": [
    {
     "data": {
      "text/plain": [
       "<matplotlib.patches.Circle at 0x2b7f64097190>"
      ]
     },
     "execution_count": 102,
     "metadata": {},
     "output_type": "execute_result"
    },
    {
     "data": {
      "image/png": "[encoded data removed]",
      "text/plain": [
       "<Figure size 720x720 with 1 Axes>"
      ]
     },
     "metadata": {
      "needs_background": "light"
     },
     "output_type": "display_data"
    }
   ],
   "source": [
    "fig, ax = plt.subplots(1, figsize=(10,10))\n",
    "ax.scatter(pos[:,0], pos[:,1])\n",
    "ax.scatter(7,7, marker='s')\n",
    "ax.scatter(pos[neigh,0], pos[neigh,1], marker='+', s=200)\n",
    "circ = plt.Circle((7,7), radius=3)\n",
    "circ.set_facecolor('none')\n",
    "circ.set_edgecolor('k')\n",
    "ax.add_patch(circ)"
   ]
  },
  {
   "cell_type": "code",
   "execution_count": null,
   "id": "extraordinary-schema",
   "metadata": {},
   "outputs": [],
   "source": []
  },
  {
   "cell_type": "code",
   "execution_count": null,
   "id": "incorporated-demographic",
   "metadata": {},
   "outputs": [],
   "source": []
  }
 ],
 "metadata": {
  "kernelspec": {
   "display_name": "Python 3",
   "language": "python",
   "name": "python3"
  },
  "language_info": {
   "codemirror_mode": {
    "name": "ipython",
    "version": 3
   },
   "file_extension": ".py",
   "mimetype": "text/x-python",
   "name": "python",
   "nbconvert_exporter": "python",
   "pygments_lexer": "ipython3",
   "version": "3.9.2"
  }
 },
 "nbformat": 4,
 "nbformat_minor": 5
}
