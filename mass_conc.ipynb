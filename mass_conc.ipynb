{
 "cells": [
  {
   "cell_type": "code",
   "execution_count": 1,
   "id": "essential-staff",
   "metadata": {},
   "outputs": [],
   "source": [
    "import numpy as np"
   ]
  },
  {
   "cell_type": "code",
   "execution_count": 267,
   "id": "quarterly-shannon",
   "metadata": {},
   "outputs": [],
   "source": [
    "import os"
   ]
  },
  {
   "cell_type": "code",
   "execution_count": 6,
   "id": "guilty-baseline",
   "metadata": {},
   "outputs": [],
   "source": [
    "import tables"
   ]
  },
  {
   "cell_type": "code",
   "execution_count": 7,
   "id": "enhanced-senate",
   "metadata": {},
   "outputs": [],
   "source": [
    "import pandas as pd"
   ]
  },
  {
   "cell_type": "code",
   "execution_count": 8,
   "id": "common-shoot",
   "metadata": {},
   "outputs": [],
   "source": [
    "from scipy.interpolate import interp1d"
   ]
  },
  {
   "cell_type": "code",
   "execution_count": 9,
   "id": "later-samba",
   "metadata": {},
   "outputs": [],
   "source": [
    "import matplotlib.pyplot as plt"
   ]
  },
  {
   "cell_type": "code",
   "execution_count": 2,
   "id": "attached-barrel",
   "metadata": {},
   "outputs": [],
   "source": [
    "import vrpy_tools"
   ]
  },
  {
   "cell_type": "code",
   "execution_count": null,
   "id": "revolutionary-spine",
   "metadata": {},
   "outputs": [],
   "source": []
  },
  {
   "cell_type": "code",
   "execution_count": 11,
   "id": "powerful-payday",
   "metadata": {},
   "outputs": [],
   "source": [
    "def Omega(z, Om0):\n",
    "    E = Om0 * (1+z)**3 + (1-Om0)\n",
    "    return Om0 * (1+z)**3 / E\n",
    "\n",
    "def Del_vir(Om):\n",
    "    x = Om - 1\n",
    "    return (18*np.pi**2 + 82*x - 39*x**2)\n",
    "\n",
    "def Delv(z, Om0):\n",
    "    return Del_vir(Omega(z, Om0))"
   ]
  },
  {
   "cell_type": "code",
   "execution_count": null,
   "id": "caroline-dollar",
   "metadata": {},
   "outputs": [],
   "source": []
  },
  {
   "cell_type": "code",
   "execution_count": 12,
   "id": "express-capitol",
   "metadata": {},
   "outputs": [
    {
     "data": {
      "text/plain": [
       "/Groups/98/Group (Group) ''\n",
       "  children := ['GroupBHMass' (Array), 'GroupBHMdot' (Array), 'GroupCM' (Array), 'GroupFirstSub' (Array), 'GroupGasMetalFractions' (Array), 'GroupGasMetallicity' (Array), 'GroupLen' (Array), 'GroupLenType' (Array), 'GroupMass' (Array), 'GroupMassType' (Array), 'GroupNsubs' (Array), 'GroupPos' (Array), 'GroupSFR' (Array), 'GroupStarMetalFractions' (Array), 'GroupStarMetallicity' (Array), 'GroupVel' (Array), 'GroupWindMass' (Array), 'Group_M_Crit200' (Array), 'Group_M_Crit500' (Array), 'Group_M_Mean200' (Array), 'Group_M_TopHat200' (Array), 'Group_R_Crit200' (Array), 'Group_R_Crit500' (Array), 'Group_R_Mean200' (Array), 'Group_R_TopHat200' (Array)]"
      ]
     },
     "execution_count": 12,
     "metadata": {},
     "output_type": "execute_result"
    }
   ],
   "source": [
    "simh5 = tables.open_file('/scratch/cprem/download/IllTNG/TNG300-1/simulation.hdf5')\n",
    "simh5.root.Groups['98'].Group"
   ]
  },
  {
   "cell_type": "code",
   "execution_count": null,
   "id": "derived-workshop",
   "metadata": {},
   "outputs": [],
   "source": []
  },
  {
   "cell_type": "code",
   "execution_count": 13,
   "id": "agreed-lemon",
   "metadata": {},
   "outputs": [],
   "source": [
    "# hals = tables.open_file(\"/scratch/cprem/download/IllTNG/TNG300-1-Dark/output/groups_098/fof_subhalo_tab_098.12.hdf5\", 'r')"
   ]
  },
  {
   "cell_type": "code",
   "execution_count": 14,
   "id": "cleared-algebra",
   "metadata": {},
   "outputs": [],
   "source": [
    "hals = simh5.root.Groups['98'].Group"
   ]
  },
  {
   "cell_type": "code",
   "execution_count": 15,
   "id": "configured-botswana",
   "metadata": {},
   "outputs": [
    {
     "data": {
      "text/plain": [
       "/Groups/98/Group (Group) ''\n",
       "  children := ['GroupBHMass' (Array), 'GroupBHMdot' (Array), 'GroupCM' (Array), 'GroupFirstSub' (Array), 'GroupGasMetalFractions' (Array), 'GroupGasMetallicity' (Array), 'GroupLen' (Array), 'GroupLenType' (Array), 'GroupMass' (Array), 'GroupMassType' (Array), 'GroupNsubs' (Array), 'GroupPos' (Array), 'GroupSFR' (Array), 'GroupStarMetalFractions' (Array), 'GroupStarMetallicity' (Array), 'GroupVel' (Array), 'GroupWindMass' (Array), 'Group_M_Crit200' (Array), 'Group_M_Crit500' (Array), 'Group_M_Mean200' (Array), 'Group_M_TopHat200' (Array), 'Group_R_Crit200' (Array), 'Group_R_Crit500' (Array), 'Group_R_Mean200' (Array), 'Group_R_TopHat200' (Array)]"
      ]
     },
     "execution_count": 15,
     "metadata": {},
     "output_type": "execute_result"
    }
   ],
   "source": [
    "hals"
   ]
  },
  {
   "cell_type": "code",
   "execution_count": 16,
   "id": "demanding-occasion",
   "metadata": {},
   "outputs": [],
   "source": [
    "# Om0 = hals.root.Parameters.attrs.Omega0\n",
    "Om0 = 0.3089"
   ]
  },
  {
   "cell_type": "code",
   "execution_count": 17,
   "id": "hungarian-street",
   "metadata": {},
   "outputs": [
    {
     "data": {
      "text/plain": [
       "0.3089"
      ]
     },
     "execution_count": 17,
     "metadata": {},
     "output_type": "execute_result"
    }
   ],
   "source": [
    "Om0"
   ]
  },
  {
   "cell_type": "code",
   "execution_count": 18,
   "id": "ancient-earth",
   "metadata": {},
   "outputs": [
    {
     "data": {
      "text/plain": [
       "/Groups/98/Group/Group_M_TopHat200 (Array(17652241,)) ''\n",
       "  atom := Float32Atom(shape=(), dflt=0.0)\n",
       "  maindim := 0\n",
       "  flavor := 'numpy'\n",
       "  byteorder := 'little'\n",
       "  chunkshape := None"
      ]
     },
     "execution_count": 18,
     "metadata": {},
     "output_type": "execute_result"
    }
   ],
   "source": [
    "hals.Group_M_TopHat200"
   ]
  },
  {
   "cell_type": "code",
   "execution_count": 19,
   "id": "loaded-bible",
   "metadata": {},
   "outputs": [],
   "source": [
    "hi =slice(None)"
   ]
  },
  {
   "cell_type": "code",
   "execution_count": 20,
   "id": "regulated-membrane",
   "metadata": {},
   "outputs": [],
   "source": [
    "# Rv = hals.Group_R_TopHat200[hi]\n",
    "# Rh = hals.Group_R_Crit200[hi]\n",
    "# Mv = hals.Group_M_TopHat200[hi]\n",
    "# Mh = hals.Group_M_Crit200[hi]\n",
    "# Dlv = Delv(0,Om0)\n",
    "# Dlh = 200"
   ]
  },
  {
   "cell_type": "code",
   "execution_count": 21,
   "id": "behind-chain",
   "metadata": {},
   "outputs": [],
   "source": [
    "Rv = hals.Group_R_Crit200[hi]\n",
    "Rh = hals.Group_R_Crit500[hi]\n",
    "Mv = hals.Group_M_Crit200[hi]\n",
    "Mh = hals.Group_M_Crit500[hi]\n",
    "Dlv = 200\n",
    "Dlh = 500"
   ]
  },
  {
   "cell_type": "code",
   "execution_count": 196,
   "id": "classified-pattern",
   "metadata": {},
   "outputs": [
    {
     "data": {
      "text/plain": [
       "(60124,)"
      ]
     },
     "execution_count": 196,
     "metadata": {},
     "output_type": "execute_result"
    }
   ],
   "source": [
    "Rv.shape"
   ]
  },
  {
   "cell_type": "code",
   "execution_count": 397,
   "id": "former-copper",
   "metadata": {},
   "outputs": [
    {
     "data": {
      "text/plain": [
       "array([1.15842190e-07, 1.15796693e-07, 1.15851100e-07, ...,\n",
       "       1.15850545e-07, 1.15826345e-07, 1.15861593e-07])"
      ]
     },
     "execution_count": 397,
     "metadata": {},
     "output_type": "execute_result"
    }
   ],
   "source": [
    "Mv/Rv**3 / Dlv"
   ]
  },
  {
   "cell_type": "code",
   "execution_count": 398,
   "id": "grateful-harrison",
   "metadata": {},
   "outputs": [
    {
     "ename": "ValueError",
     "evalue": "operands could not be broadcast together with shapes (218237,) (136653,) ",
     "output_type": "error",
     "traceback": [
      "\u001b[0;31m---------------------------------------------------------------------------\u001b[0m",
      "\u001b[0;31mValueError\u001b[0m                                Traceback (most recent call last)",
      "\u001b[0;32m<ipython-input-398-45380bedec9a>\u001b[0m in \u001b[0;36m<module>\u001b[0;34m\u001b[0m\n\u001b[0;32m----> 1\u001b[0;31m \u001b[0mMh\u001b[0m\u001b[0;34m/\u001b[0m\u001b[0mRh\u001b[0m\u001b[0;34m**\u001b[0m\u001b[0;36m3\u001b[0m \u001b[0;34m/\u001b[0m \u001b[0mDlh\u001b[0m\u001b[0;34m\u001b[0m\u001b[0;34m\u001b[0m\u001b[0m\n\u001b[0m",
      "\u001b[0;31mValueError\u001b[0m: operands could not be broadcast together with shapes (218237,) (136653,) "
     ]
    }
   ],
   "source": [
    "Mh/Rh**3 / Dlh"
   ]
  },
  {
   "cell_type": "code",
   "execution_count": 199,
   "id": "described-jaguar",
   "metadata": {},
   "outputs": [
    {
     "data": {
      "text/plain": [
       "0.5117776501480422"
      ]
     },
     "execution_count": 199,
     "metadata": {},
     "output_type": "execute_result"
    }
   ],
   "source": [
    "Delv(0,Om0)/200"
   ]
  },
  {
   "cell_type": "code",
   "execution_count": 200,
   "id": "structural-visitor",
   "metadata": {},
   "outputs": [
    {
     "data": {
      "text/plain": [
       "0.2"
      ]
     },
     "execution_count": 200,
     "metadata": {},
     "output_type": "execute_result"
    }
   ],
   "source": [
    "Dlv/Dlh"
   ]
  },
  {
   "cell_type": "code",
   "execution_count": 201,
   "id": "gorgeous-simon",
   "metadata": {},
   "outputs": [
    {
     "data": {
      "text/plain": [
       "101.14287921960845"
      ]
     },
     "execution_count": 201,
     "metadata": {},
     "output_type": "execute_result"
    }
   ],
   "source": [
    "Del_vir(.3)"
   ]
  },
  {
   "cell_type": "code",
   "execution_count": 202,
   "id": "exact-shoulder",
   "metadata": {},
   "outputs": [
    {
     "data": {
      "text/plain": [
       "0.3089"
      ]
     },
     "execution_count": 202,
     "metadata": {},
     "output_type": "execute_result"
    }
   ],
   "source": [
    "Om0"
   ]
  },
  {
   "cell_type": "code",
   "execution_count": null,
   "id": "architectural-completion",
   "metadata": {},
   "outputs": [],
   "source": []
  },
  {
   "cell_type": "code",
   "execution_count": 203,
   "id": "processed-purse",
   "metadata": {},
   "outputs": [],
   "source": [
    "def f(x):\n",
    "    return x**3 *( np.log(1+1/x) - 1/(1+x) )\n",
    "def f_inv(f):\n",
    "    a1,a2,a3,a4 = 0.5116, -0.4283, -3.13e-3, -3.52e-5\n",
    "    p = a2 + a3*np.log(f) + a4*np.log(f)**2\n",
    "    return ( a1*f**(2*p) + (9/16) )**(-1/2) +2*f"
   ]
  },
  {
   "cell_type": "code",
   "execution_count": 204,
   "id": "declared-warrior",
   "metadata": {},
   "outputs": [
    {
     "data": {
      "text/plain": [
       "array([1.86793499, 2.09078853, 2.02535886, 1.95308911, 2.06074726])"
      ]
     },
     "execution_count": 204,
     "metadata": {},
     "output_type": "execute_result"
    }
   ],
   "source": [
    "rr = Rv[:5]/Rh[:5]\n",
    "rr"
   ]
  },
  {
   "cell_type": "code",
   "execution_count": 205,
   "id": "assured-bulletin",
   "metadata": {},
   "outputs": [
    {
     "data": {
      "text/plain": [
       "array([0.01      , 0.01183673, 0.01367347, 0.0155102 , 0.01734694,\n",
       "       0.01918367, 0.02102041, 0.02285714, 0.02469388, 0.02653061,\n",
       "       0.02836735, 0.03020408, 0.03204082, 0.03387755, 0.03571429,\n",
       "       0.03755102, 0.03938776, 0.04122449, 0.04306122, 0.04489796,\n",
       "       0.04673469, 0.04857143, 0.05040816, 0.0522449 , 0.05408163,\n",
       "       0.05591837, 0.0577551 , 0.05959184, 0.06142857, 0.06326531,\n",
       "       0.06510204, 0.06693878, 0.06877551, 0.07061224, 0.07244898,\n",
       "       0.07428571, 0.07612245, 0.07795918, 0.07979592, 0.08163265,\n",
       "       0.08346939, 0.08530612, 0.08714286, 0.08897959, 0.09081633,\n",
       "       0.09265306, 0.0944898 , 0.09632653, 0.09816327, 0.1       ])"
      ]
     },
     "execution_count": 205,
     "metadata": {},
     "output_type": "execute_result"
    }
   ],
   "source": [
    "x = np.linspace(1e-2,1e-1)\n",
    "x"
   ]
  },
  {
   "cell_type": "code",
   "execution_count": 206,
   "id": "alleged-skill",
   "metadata": {},
   "outputs": [
    {
     "data": {
      "text/plain": [
       "array([3.62502151e-06, 5.73817075e-06, 8.48577544e-06, 1.19284640e-05,\n",
       "       1.61223594e-05, 2.11196770e-05, 2.69691929e-05, 3.37166218e-05,\n",
       "       4.14049268e-05, 5.00745793e-05, 5.97637790e-05, 7.05086432e-05,\n",
       "       8.23433710e-05, 9.53003870e-05, 1.09410468e-04, 1.24702855e-04,\n",
       "       1.41205357e-04, 1.58944438e-04, 1.77945300e-04, 1.98231960e-04,\n",
       "       2.19827312e-04, 2.42753195e-04, 2.67030449e-04, 2.92678962e-04,\n",
       "       3.19717725e-04, 3.48164872e-04, 3.78037727e-04, 4.09352835e-04,\n",
       "       4.42126006e-04, 4.76372343e-04, 5.12106276e-04, 5.49341592e-04,\n",
       "       5.88091461e-04, 6.28368463e-04, 6.70184615e-04, 7.13551387e-04,\n",
       "       7.58479735e-04, 8.04980110e-04, 8.53062487e-04, 9.02736377e-04,\n",
       "       9.54010850e-04, 1.00689455e-03, 1.06139570e-03, 1.11752215e-03,\n",
       "       1.17528134e-03, 1.23468036e-03, 1.29572595e-03, 1.35842449e-03,\n",
       "       1.42278205e-03, 1.48880436e-03])"
      ]
     },
     "execution_count": 206,
     "metadata": {},
     "output_type": "execute_result"
    }
   ],
   "source": [
    "f(x)"
   ]
  },
  {
   "cell_type": "code",
   "execution_count": 207,
   "id": "sweet-religious",
   "metadata": {},
   "outputs": [
    {
     "data": {
      "text/plain": [
       "array([-2.59247736e-05, -2.71557663e-05, -2.68993412e-05, -2.54749793e-05,\n",
       "       -2.31436995e-05, -2.01191099e-05, -1.65766891e-05, -1.26611861e-05,\n",
       "       -8.49243880e-06, -4.16994807e-06,  2.23508884e-07,  4.61900183e-06,\n",
       "        8.95913929e-06,  1.31962011e-05,  1.72906159e-05,  2.12097098e-05,\n",
       "        2.49266722e-05,  2.84196943e-05,  3.16712471e-05,  3.46674747e-05,\n",
       "        3.73976795e-05,  3.98538849e-05,  4.20304622e-05,  4.39238101e-05,\n",
       "        4.55320793e-05,  4.68549347e-05,  4.78933491e-05,  4.86494244e-05,\n",
       "        4.91262358e-05,  4.93276959e-05,  4.92584357e-05,  4.89237004e-05,\n",
       "        4.83292578e-05,  4.74813184e-05,  4.63864639e-05,  4.50515853e-05,\n",
       "        4.34838279e-05,  4.16905425e-05,  3.96792427e-05,  3.74575669e-05,\n",
       "        3.50332449e-05,  3.24140681e-05,  2.96078636e-05,  2.66224709e-05,\n",
       "        2.34657217e-05,  2.01454218e-05,  1.66693352e-05,  1.30451705e-05,\n",
       "        9.28056831e-06,  5.38309099e-06])"
      ]
     },
     "execution_count": 207,
     "metadata": {},
     "output_type": "execute_result"
    }
   ],
   "source": [
    "f_inv(f(x))-x"
   ]
  },
  {
   "cell_type": "code",
   "execution_count": null,
   "id": "postal-catalog",
   "metadata": {},
   "outputs": [],
   "source": []
  },
  {
   "cell_type": "code",
   "execution_count": 234,
   "id": "serial-infection",
   "metadata": {},
   "outputs": [],
   "source": [
    "def g(c, rr):\n",
    "    return f(rr/c) / f(1/c)"
   ]
  },
  {
   "cell_type": "code",
   "execution_count": 242,
   "id": "different-gambling",
   "metadata": {},
   "outputs": [],
   "source": [
    "c = .1#5.305"
   ]
  },
  {
   "cell_type": "code",
   "execution_count": 243,
   "id": "collected-fairy",
   "metadata": {},
   "outputs": [
    {
     "name": "stdout",
     "output_type": "stream",
     "text": [
      "[29.3936085   5.345305    7.30545699 11.68924499  6.11006951]\n"
     ]
    }
   ],
   "source": [
    "for i in range(100):\n",
    "#     c_mod = Rv_Rh / f_inv( Dlh/Dlv * f(1/c))\n",
    "#     print(c,g(c,rr))\n",
    "    c_prev, c = c, c* (Dlh/Dlv / g(c, rr))#**5\n",
    "    if abs(c_prev-c).all()<1e-5:\n",
    "        print(i,c); break\n",
    "    \n",
    "print(c)"
   ]
  },
  {
   "cell_type": "code",
   "execution_count": 244,
   "id": "initial-apple",
   "metadata": {},
   "outputs": [
    {
     "data": {
      "text/plain": [
       "5.0"
      ]
     },
     "execution_count": 244,
     "metadata": {},
     "output_type": "execute_result"
    }
   ],
   "source": [
    "(Dlh/Dlv)"
   ]
  },
  {
   "cell_type": "code",
   "execution_count": 245,
   "id": "cheap-price",
   "metadata": {},
   "outputs": [
    {
     "data": {
      "text/plain": [
       "array([4.99991737, 5.        , 5.        , 4.99999987, 5.        ])"
      ]
     },
     "execution_count": 245,
     "metadata": {},
     "output_type": "execute_result"
    }
   ],
   "source": [
    "g(c, rr)"
   ]
  },
  {
   "cell_type": "code",
   "execution_count": 246,
   "id": "about-diana",
   "metadata": {},
   "outputs": [],
   "source": [
    "c_ls = np.linspace(1,30)"
   ]
  },
  {
   "cell_type": "code",
   "execution_count": 247,
   "id": "mobile-appraisal",
   "metadata": {},
   "outputs": [
    {
     "data": {
      "text/plain": [
       "Text(0, 0.5, 'f(Rv/Rh* 1/c) / f(1/c)')"
      ]
     },
     "execution_count": 247,
     "metadata": {},
     "output_type": "execute_result"
    },
    {
     "data": {
      "image/png": "[encoded data removed]",
      "text/plain": [
       "<Figure size 900x600 with 1 Axes>"
      ]
     },
     "metadata": {
      "needs_background": "light"
     },
     "output_type": "display_data"
    }
   ],
   "source": [
    "plt.figure(dpi=150)\n",
    "plt.plot(c_ls,g(c_ls, rr[1]))\n",
    "plt.axhline(Dlh/Dlv)\n",
    "plt.axvline(c[1])\n",
    "plt.xlabel('c')\n",
    "plt.ylabel('f(Rv/Rh* 1/c) / f(1/c)')"
   ]
  },
  {
   "cell_type": "code",
   "execution_count": 248,
   "id": "injured-glasgow",
   "metadata": {},
   "outputs": [
    {
     "data": {
      "text/plain": [
       "5.0"
      ]
     },
     "execution_count": 248,
     "metadata": {},
     "output_type": "execute_result"
    }
   ],
   "source": [
    "Dlh/Dlv"
   ]
  },
  {
   "cell_type": "code",
   "execution_count": 42,
   "id": "tracked-perception",
   "metadata": {},
   "outputs": [
    {
     "data": {
      "text/plain": [
       "array([1.0306854e+05, 8.7936055e+04, 6.9508570e+04, ..., 5.9751414e-02,\n",
       "       5.5767983e-02, 0.0000000e+00], dtype=float32)"
      ]
     },
     "execution_count": 42,
     "metadata": {},
     "output_type": "execute_result"
    }
   ],
   "source": [
    "Mv"
   ]
  },
  {
   "cell_type": "code",
   "execution_count": null,
   "id": "urban-huntington",
   "metadata": {},
   "outputs": [],
   "source": []
  },
  {
   "cell_type": "code",
   "execution_count": null,
   "id": "boolean-adolescent",
   "metadata": {},
   "outputs": [],
   "source": []
  },
  {
   "cell_type": "code",
   "execution_count": 293,
   "id": "considerable-complaint",
   "metadata": {},
   "outputs": [],
   "source": [
    "class M_conv_NFW:\n",
    "    def __init__(self, Mass_vir, Del_vir, Rad_vir=None):\n",
    "        self.Rv = Rad_vir\n",
    "        self.Mv = Mass_vir\n",
    "        self.Dlv = Del_vir\n",
    "    def set_MR(self, Mh, Dlh, Rh=None):\n",
    "        self.Rh = Rh\n",
    "        self.Mh = Mh\n",
    "        self.Dlh = Dlh\n",
    "        \n",
    "        self.Del_h_v = self.Dlh/self.Dlv\n",
    "        self.rr = (self.Del_h_v * self.Mv/self.Mh)**(1/3)     #self.Rv/self.Rh\n",
    "    \n",
    "    def f(self,x):\n",
    "        return x**3 *( np.log(1+1/x) - 1/(1+x) )\n",
    "    def f_inv(self,f):\n",
    "        a1,a2,a3,a4 = 0.5116, -0.4283, -3.13e-3, -3.52e-5\n",
    "        p = a2 + a3*np.log(f) + a4*np.log(f)**2\n",
    "        return ( a1*f**(2*p) + (9/16) )**(-1/2) +2*f\n",
    "    \n",
    "    def g(self, c, rr):\n",
    "#         rr = self.Rv/self.Rh\n",
    "        return self.f(rr/c) / self.f(1/c)\n",
    "    \n",
    "    def solve_c(self):\n",
    "#         print(self.g(1))\n",
    "        c = .1\n",
    "        for i in range(100):\n",
    "#             print(c,g(c,self.rr))\n",
    "        #     c = Rv_Rh / f_inv( Dlh/Dlv * f(1/c))\n",
    "            c_prev, c = c, c* ( self.Del_h_v / self.g(c, self.rr))**1\n",
    "            if (abs(c_prev-c)<1e-5).all():\n",
    "                print(i,c); break\n",
    "        self.c = c\n",
    "        return c"
   ]
  },
  {
   "cell_type": "code",
   "execution_count": 294,
   "id": "arctic-start",
   "metadata": {},
   "outputs": [],
   "source": [
    "halprof = M_conv_NFW(Mv, Dlv)  #[:5000]"
   ]
  },
  {
   "cell_type": "code",
   "execution_count": 295,
   "id": "overall-genetics",
   "metadata": {},
   "outputs": [
    {
     "name": "stderr",
     "output_type": "stream",
     "text": [
      "<ipython-input-293-bb3a94d4953f>:12: RuntimeWarning: invalid value encountered in power\n",
      "  self.rr = (self.Del_h_v * self.Mv/self.Mh)**(1/3)     #self.Rv/self.Rh\n"
     ]
    }
   ],
   "source": [
    "halprof.set_MR(Mh, Dlh)"
   ]
  },
  {
   "cell_type": "code",
   "execution_count": 296,
   "id": "seventh-morning",
   "metadata": {},
   "outputs": [
    {
     "name": "stderr",
     "output_type": "stream",
     "text": [
      "<ipython-input-293-bb3a94d4953f>:15: RuntimeWarning: overflow encountered in power\n",
      "  return x**3 *( np.log(1+1/x) - 1/(1+x) )\n",
      "<ipython-input-293-bb3a94d4953f>:23: RuntimeWarning: invalid value encountered in true_divide\n",
      "  return self.f(rr/c) / self.f(1/c)\n",
      "<ipython-input-293-bb3a94d4953f>:23: RuntimeWarning: divide by zero encountered in true_divide\n",
      "  return self.f(rr/c) / self.f(1/c)\n",
      "<ipython-input-293-bb3a94d4953f>:15: RuntimeWarning: invalid value encountered in multiply\n",
      "  return x**3 *( np.log(1+1/x) - 1/(1+x) )\n"
     ]
    },
    {
     "data": {
      "text/plain": [
       "array([ 3.41633072,  8.46603122,  8.39492483, ...,  4.81318892,\n",
       "       11.62685855,  0.66328685])"
      ]
     },
     "execution_count": 296,
     "metadata": {},
     "output_type": "execute_result"
    }
   ],
   "source": [
    "c = halprof.solve_c()\n",
    "c"
   ]
  },
  {
   "cell_type": "code",
   "execution_count": 257,
   "id": "indonesian-offense",
   "metadata": {},
   "outputs": [
    {
     "data": {
      "text/plain": [
       "array([-0., -0., -0., ..., -4., -4., -4.])"
      ]
     },
     "execution_count": 257,
     "metadata": {},
     "output_type": "execute_result"
    }
   ],
   "source": [
    "np.round(halprof.g(c, halprof.rr)-Dlh/Dlv, 4).sum()"
   ]
  },
  {
   "cell_type": "code",
   "execution_count": 43,
   "id": "bronze-battery",
   "metadata": {},
   "outputs": [],
   "source": [
    "df = pd.DataFrame(data={'Mv':halprof.Mv*1e10,'c':halprof.c})"
   ]
  },
  {
   "cell_type": "code",
   "execution_count": 44,
   "id": "trying-toilet",
   "metadata": {},
   "outputs": [],
   "source": [
    "df.dropna(inplace=True)"
   ]
  },
  {
   "cell_type": "code",
   "execution_count": 46,
   "id": "asian-scout",
   "metadata": {},
   "outputs": [],
   "source": [
    "# df"
   ]
  },
  {
   "cell_type": "code",
   "execution_count": 46,
   "id": "clear-civilian",
   "metadata": {},
   "outputs": [],
   "source": [
    "bins= np.logspace(9,15,50)"
   ]
  },
  {
   "cell_type": "code",
   "execution_count": 47,
   "id": "senior-decade",
   "metadata": {},
   "outputs": [],
   "source": [
    "df_grpd = df.groupby(pd.cut(df.Mv,bins))"
   ]
  },
  {
   "cell_type": "code",
   "execution_count": 48,
   "id": "thirty-catalyst",
   "metadata": {},
   "outputs": [],
   "source": [
    "df_med = df_grpd.median()\n",
    "df_1sig_l = df_grpd.quantile(.16)\n",
    "df_1sig_r = df_grpd.quantile(.84)"
   ]
  },
  {
   "cell_type": "code",
   "execution_count": 49,
   "id": "colonial-brooks",
   "metadata": {},
   "outputs": [
    {
     "data": {
      "text/plain": [
       "6"
      ]
     },
     "execution_count": 49,
     "metadata": {},
     "output_type": "execute_result"
    }
   ],
   "source": [
    "6"
   ]
  },
  {
   "cell_type": "code",
   "execution_count": 51,
   "id": "tired-subject",
   "metadata": {},
   "outputs": [],
   "source": [
    "# df_med"
   ]
  },
  {
   "cell_type": "code",
   "execution_count": 55,
   "id": "short-layout",
   "metadata": {},
   "outputs": [
    {
     "data": {
      "image/png": "[encoded data removed]",
      "text/plain": [
       "<Figure size 840x840 with 1 Axes>"
      ]
     },
     "metadata": {
      "needs_background": "light"
     },
     "output_type": "display_data"
    }
   ],
   "source": [
    "plt.figure(dpi=120, figsize=(7,7))\n",
    "plt.plot(df_med.Mv, df_med.c, 'r')\n",
    "plt.plot(df_med.Mv, df_1sig_l.c, 'g:')\n",
    "plt.plot(df_med.Mv, df_1sig_r.c, 'g:')\n",
    "# plt.loglog(Mv*1e10, c, 'o')\n",
    "plt.xscale('log')\n",
    "plt.yscale('log')\n",
    "# plt.xlim(5e10)\n",
    "plt.ylim(3,30)\n",
    "plt.xlabel('Mass $M_v$')\n",
    "plt.ylabel('c')\n",
    "# plt.savefig('plots/M-conc200_TNG300-1.pdf')"
   ]
  },
  {
   "cell_type": "code",
   "execution_count": null,
   "id": "continued-thread",
   "metadata": {},
   "outputs": [],
   "source": []
  },
  {
   "cell_type": "code",
   "execution_count": null,
   "id": "opened-conversation",
   "metadata": {},
   "outputs": [],
   "source": []
  },
  {
   "cell_type": "code",
   "execution_count": 56,
   "id": "nonprofit-highway",
   "metadata": {},
   "outputs": [
    {
     "data": {
      "text/plain": [
       "array([1.0306854e+05, 8.7936055e+04, 6.9508570e+04, ..., 5.9751414e-02,\n",
       "       5.5767983e-02, 0.0000000e+00], dtype=float32)"
      ]
     },
     "execution_count": 56,
     "metadata": {},
     "output_type": "execute_result"
    }
   ],
   "source": [
    "halprof.Mv"
   ]
  },
  {
   "cell_type": "code",
   "execution_count": 101,
   "id": "universal-madison",
   "metadata": {},
   "outputs": [],
   "source": [
    "Mc200_df = pd.DataFrame(data = {'M200c':halprof.Mv*1e0, 'M500c (x10^10 h-1 M_O)':halprof.Mh*1e0, 'c200c':halprof.c })"
   ]
  },
  {
   "cell_type": "code",
   "execution_count": null,
   "id": "funny-saver",
   "metadata": {},
   "outputs": [],
   "source": []
  },
  {
   "cell_type": "code",
   "execution_count": 108,
   "id": "sitting-drawing",
   "metadata": {},
   "outputs": [],
   "source": [
    "Mc200_df_sample = Mc200_df.loc[Mc200_df.M200c.between(1e1,1e3)].dropna().sample(10000, random_state=1)"
   ]
  },
  {
   "cell_type": "code",
   "execution_count": 113,
   "id": "dietary-cocktail",
   "metadata": {},
   "outputs": [],
   "source": [
    "Mc200_df_sample.to_csv('mass_conc_sample.csv', index=False, sep='\\t')"
   ]
  },
  {
   "cell_type": "code",
   "execution_count": null,
   "id": "dying-salad",
   "metadata": {},
   "outputs": [],
   "source": []
  },
  {
   "cell_type": "code",
   "execution_count": 267,
   "id": "fleet-morris",
   "metadata": {},
   "outputs": [],
   "source": [
    "# @np.vectorize\n",
    "# def solve_c(Rv,Mv,Dlv, Rh,Mh,Dlh):\n",
    "#     halprof = M_conv_NFW(Rv,Mv,Dlv)\n",
    "#     halprof.set_MR(Mh,Rh, Dlh)\n",
    "#     return halprof.solve_c()"
   ]
  },
  {
   "cell_type": "code",
   "execution_count": 135,
   "id": "central-membrane",
   "metadata": {},
   "outputs": [],
   "source": [
    "# solve_c(Rv,Mv,Dlv, Rh,Mh,Dlh)"
   ]
  },
  {
   "cell_type": "code",
   "execution_count": 2,
   "id": "potential-collar",
   "metadata": {},
   "outputs": [],
   "source": [
    "# df"
   ]
  },
  {
   "cell_type": "code",
   "execution_count": 1,
   "id": "threatened-monster",
   "metadata": {},
   "outputs": [],
   "source": [
    "# df.dropna()"
   ]
  },
  {
   "cell_type": "code",
   "execution_count": null,
   "id": "norwegian-paraguay",
   "metadata": {},
   "outputs": [],
   "source": []
  },
  {
   "cell_type": "code",
   "execution_count": 275,
   "id": "devoted-photograph",
   "metadata": {},
   "outputs": [],
   "source": [
    "hi =slice(None)"
   ]
  },
  {
   "cell_type": "code",
   "execution_count": 272,
   "id": "certified-pixel",
   "metadata": {},
   "outputs": [],
   "source": [
    "L=150\n",
    "N = 512\n",
    "i=20\n",
    "rund='r7'"
   ]
  },
  {
   "cell_type": "code",
   "execution_count": 270,
   "id": "designed-opening",
   "metadata": {},
   "outputs": [],
   "source": [
    "snapfile_dmo = f\"/scratch/cprem/sims/L{L:d}_N{N:d}_Cp18/{rund:s}/snaps/snapdir_{i:03d}/snapshot_{i:03d}\"\n",
    "snapfile = f\"/scratch/cprem/sims/L{L:d}_N{N:d}_Cp18_bar/{rund:s}/snaps/snapdir_{i:03d}/snapshot_{i:03d}\""
   ]
  },
  {
   "cell_type": "code",
   "execution_count": 220,
   "id": "arabic-issue",
   "metadata": {},
   "outputs": [],
   "source": [
    "siminfo = vrpy_tools.ReadSimInfo(f\"/scratch/cprem/sims/L{L:d}_N{N:d}_Cp18/{rund:s}/halos_vr_6d/out_{i:03d}\")"
   ]
  },
  {
   "cell_type": "code",
   "execution_count": 279,
   "id": "identical-superintendent",
   "metadata": {},
   "outputs": [],
   "source": [
    "config = vrpy_tools.ReadConfigInfo(f\"/scratch/cprem/sims/L{L:d}_N{N:d}_Cp18/{rund:s}/halos_vr_6d/out_{i:03d}\")"
   ]
  },
  {
   "cell_type": "code",
   "execution_count": 280,
   "id": "unlimited-beijing",
   "metadata": {},
   "outputs": [],
   "source": [
    "hal_vr_dict, N_hal_tot_vr = vrpy_tools.ReadPropertyFile(f\"/scratch/cprem/sims/L{L:d}_N{N:d}_Cp18/{rund:s}/halos_vr_6d/out_{i:03d}\", ibinary=2, isiminfo=False, iunitinfo=False, iconfiginfo=False)\n",
    "hal_vr_all = pd.DataFrame.from_dict(hal_vr_dict)\n",
    "hal_vr_all.set_index('ID', inplace=True)\n",
    "hal_vr_all = hal_vr_all.loc[hal_vr_all.hostHaloID==-1]"
   ]
  },
  {
   "cell_type": "code",
   "execution_count": 308,
   "id": "stopped-matthew",
   "metadata": {},
   "outputs": [
    {
     "data": {
      "text/plain": [
       "ID\n",
       "1         1.990814\n",
       "2         4.725057\n",
       "3         5.013645\n",
       "4         3.176681\n",
       "5         3.888108\n",
       "            ...   \n",
       "167805    1.822812\n",
       "167806    4.559512\n",
       "167807    1.651348\n",
       "167808    3.521340\n",
       "167809    3.540665\n",
       "Name: cNFW, Length: 136653, dtype: float64"
      ]
     },
     "execution_count": 308,
     "metadata": {},
     "output_type": "execute_result"
    }
   ],
   "source": [
    "hal_vr_all.cNFW #/ hal_vr_all.Rvir  * hal_vr_all.R_200crit"
   ]
  },
  {
   "cell_type": "code",
   "execution_count": 297,
   "id": "crucial-white",
   "metadata": {},
   "outputs": [],
   "source": [
    "Rv = hal_vr_all.SO_R_100_rhocrit.to_numpy()[hi]\n",
    "Rh = hal_vr_all.SO_R_500_rhocrit.to_numpy()[hi]\n",
    "Mv = hal_vr_all.SO_Mass_100_rhocrit.to_numpy()[hi]\n",
    "Mh = hal_vr_all.SO_Mass_500_rhocrit.to_numpy()[hi]\n",
    "Dlv = 100 #Delv(0,Om0)\n",
    "Dlh = 500"
   ]
  },
  {
   "cell_type": "code",
   "execution_count": 273,
   "id": "outer-twenty",
   "metadata": {},
   "outputs": [],
   "source": [
    "hal_rs_all = pd.read_csv(os.path.join(f'/scratch/cprem/sims/L{L:d}_N{N:d}_Cp18/{rund:s}/halos_rs/out_wp_{i:d}.list'), sep=r'\\s+', header=0, skiprows=list(range(1,16)), engine='c')\n",
    "hal_rs_all.set_index('#ID', inplace=True)\n",
    "hal_rs_all = hal_rs_all.loc[hal_rs_all.PID==-1]"
   ]
  },
  {
   "cell_type": "code",
   "execution_count": 396,
   "id": "amended-tender",
   "metadata": {},
   "outputs": [],
   "source": [
    "Rv = hal_rs_all.Rvir.to_numpy()[hi]\n",
    "Rs = hal_rs_all.Rs.to_numpy()[hi]\n",
    "Mv = hal_rs_all.Mvir.to_numpy()[hi]/1e10\n",
    "Mh = hal_rs_all.M500c.to_numpy()[hi]/1e10\n",
    "Dlv = Delv(0,Om0)\n",
    "Dlh = 500"
   ]
  },
  {
   "cell_type": "code",
   "execution_count": 378,
   "id": "breeding-bloom",
   "metadata": {},
   "outputs": [
    {
     "data": {
      "text/plain": [
       "102.35553002960845"
      ]
     },
     "execution_count": 378,
     "metadata": {},
     "output_type": "execute_result"
    }
   ],
   "source": [
    "Delv(0,Om0)"
   ]
  },
  {
   "cell_type": "code",
   "execution_count": null,
   "id": "bacterial-matter",
   "metadata": {},
   "outputs": [],
   "source": []
  },
  {
   "cell_type": "code",
   "execution_count": 379,
   "id": "controlled-marine",
   "metadata": {},
   "outputs": [],
   "source": [
    "halprof = M_conv_NFW(Mv, Dlv)  #[:5000]"
   ]
  },
  {
   "cell_type": "code",
   "execution_count": 380,
   "id": "thousand-program",
   "metadata": {},
   "outputs": [
    {
     "name": "stderr",
     "output_type": "stream",
     "text": [
      "<ipython-input-293-bb3a94d4953f>:12: RuntimeWarning: divide by zero encountered in true_divide\n",
      "  self.rr = (self.Del_h_v * self.Mv/self.Mh)**(1/3)     #self.Rv/self.Rh\n"
     ]
    }
   ],
   "source": [
    "halprof.set_MR(Mh, Dlh)"
   ]
  },
  {
   "cell_type": "code",
   "execution_count": 381,
   "id": "lovely-shanghai",
   "metadata": {},
   "outputs": [
    {
     "name": "stderr",
     "output_type": "stream",
     "text": [
      "<ipython-input-293-bb3a94d4953f>:15: RuntimeWarning: invalid value encountered in multiply\n",
      "  return x**3 *( np.log(1+1/x) - 1/(1+x) )\n",
      "<ipython-input-293-bb3a94d4953f>:15: RuntimeWarning: overflow encountered in power\n",
      "  return x**3 *( np.log(1+1/x) - 1/(1+x) )\n"
     ]
    },
    {
     "data": {
      "text/plain": [
       "array([        nan,  4.58371385,  5.92222108, ...,         nan,\n",
       "       19.02976949,  1.85887819])"
      ]
     },
     "execution_count": 381,
     "metadata": {},
     "output_type": "execute_result"
    }
   ],
   "source": [
    "c = halprof.solve_c()\n",
    "c"
   ]
  },
  {
   "cell_type": "code",
   "execution_count": 382,
   "id": "departmental-august",
   "metadata": {},
   "outputs": [
    {
     "name": "stderr",
     "output_type": "stream",
     "text": [
      "<ipython-input-293-bb3a94d4953f>:23: RuntimeWarning: divide by zero encountered in true_divide\n",
      "  return self.f(rr/c) / self.f(1/c)\n",
      "<ipython-input-293-bb3a94d4953f>:15: RuntimeWarning: overflow encountered in power\n",
      "  return x**3 *( np.log(1+1/x) - 1/(1+x) )\n",
      "<ipython-input-293-bb3a94d4953f>:15: RuntimeWarning: invalid value encountered in multiply\n",
      "  return x**3 *( np.log(1+1/x) - 1/(1+x) )\n"
     ]
    },
    {
     "data": {
      "text/plain": [
       "array([ 0., -0., -0., ...,  0., -0.,  0.])"
      ]
     },
     "execution_count": 382,
     "metadata": {},
     "output_type": "execute_result"
    }
   ],
   "source": [
    "np.nan_to_num(np.round(halprof.g(c, halprof.rr)-Dlh/Dlv, 4))"
   ]
  },
  {
   "cell_type": "code",
   "execution_count": 383,
   "id": "sapphire-wilderness",
   "metadata": {},
   "outputs": [
    {
     "data": {
      "text/plain": [
       "(218237,)"
      ]
     },
     "execution_count": 383,
     "metadata": {},
     "output_type": "execute_result"
    }
   ],
   "source": [
    "c.shape"
   ]
  },
  {
   "cell_type": "code",
   "execution_count": 384,
   "id": "designed-choice",
   "metadata": {},
   "outputs": [
    {
     "data": {
      "text/plain": [
       "(0, 162)"
      ]
     },
     "execution_count": 384,
     "metadata": {},
     "output_type": "execute_result"
    }
   ],
   "source": [
    "hal_vr_all.loc[hal_vr_all.hostHaloID>-1].shape"
   ]
  },
  {
   "cell_type": "code",
   "execution_count": null,
   "id": "frank-daniel",
   "metadata": {},
   "outputs": [],
   "source": []
  },
  {
   "cell_type": "code",
   "execution_count": 400,
   "id": "ambient-rouge",
   "metadata": {},
   "outputs": [],
   "source": [
    "df = pd.DataFrame(data={'Mv':halprof.Mv*1e10,'c':halprof.c, 'Rs':Rs, 'Rv':Rv, 'cRc':Rv/Rs})"
   ]
  },
  {
   "cell_type": "code",
   "execution_count": 401,
   "id": "legitimate-isaac",
   "metadata": {},
   "outputs": [],
   "source": [
    "df.dropna(inplace=True)"
   ]
  },
  {
   "cell_type": "code",
   "execution_count": 402,
   "id": "humanitarian-discussion",
   "metadata": {},
   "outputs": [
    {
     "data": {
      "text/html": [
       "<div>\n",
       "<style scoped>\n",
       "    .dataframe tbody tr th:only-of-type {\n",
       "        vertical-align: middle;\n",
       "    }\n",
       "\n",
       "    .dataframe tbody tr th {\n",
       "        vertical-align: top;\n",
       "    }\n",
       "\n",
       "    .dataframe thead th {\n",
       "        text-align: right;\n",
       "    }\n",
       "</style>\n",
       "<table border=\"1\" class=\"dataframe\">\n",
       "  <thead>\n",
       "    <tr style=\"text-align: right;\">\n",
       "      <th></th>\n",
       "      <th>Mv</th>\n",
       "      <th>c</th>\n",
       "      <th>Rs</th>\n",
       "      <th>Rv</th>\n",
       "      <th>cRc</th>\n",
       "    </tr>\n",
       "  </thead>\n",
       "  <tbody>\n",
       "    <tr>\n",
       "      <th>1</th>\n",
       "      <td>1.000000e+12</td>\n",
       "      <td>4.583714</td>\n",
       "      <td>29.197</td>\n",
       "      <td>203.578</td>\n",
       "      <td>6.972566</td>\n",
       "    </tr>\n",
       "    <tr>\n",
       "      <th>2</th>\n",
       "      <td>7.482000e+10</td>\n",
       "      <td>5.922221</td>\n",
       "      <td>9.553</td>\n",
       "      <td>85.770</td>\n",
       "      <td>8.978331</td>\n",
       "    </tr>\n",
       "    <tr>\n",
       "      <th>3</th>\n",
       "      <td>7.268000e+10</td>\n",
       "      <td>7.803370</td>\n",
       "      <td>6.676</td>\n",
       "      <td>84.946</td>\n",
       "      <td>12.724086</td>\n",
       "    </tr>\n",
       "    <tr>\n",
       "      <th>5</th>\n",
       "      <td>7.910000e+10</td>\n",
       "      <td>5.002708</td>\n",
       "      <td>11.001</td>\n",
       "      <td>87.374</td>\n",
       "      <td>7.942369</td>\n",
       "    </tr>\n",
       "    <tr>\n",
       "      <th>6</th>\n",
       "      <td>5.772000e+10</td>\n",
       "      <td>2.208732</td>\n",
       "      <td>17.093</td>\n",
       "      <td>78.663</td>\n",
       "      <td>4.602059</td>\n",
       "    </tr>\n",
       "    <tr>\n",
       "      <th>...</th>\n",
       "      <td>...</td>\n",
       "      <td>...</td>\n",
       "      <td>...</td>\n",
       "      <td>...</td>\n",
       "      <td>...</td>\n",
       "    </tr>\n",
       "    <tr>\n",
       "      <th>218231</th>\n",
       "      <td>1.924000e+10</td>\n",
       "      <td>1.859090</td>\n",
       "      <td>12.219</td>\n",
       "      <td>54.542</td>\n",
       "      <td>4.463704</td>\n",
       "    </tr>\n",
       "    <tr>\n",
       "      <th>218232</th>\n",
       "      <td>4.105000e+11</td>\n",
       "      <td>45.723729</td>\n",
       "      <td>8.830</td>\n",
       "      <td>151.269</td>\n",
       "      <td>17.131257</td>\n",
       "    </tr>\n",
       "    <tr>\n",
       "      <th>218233</th>\n",
       "      <td>4.062000e+10</td>\n",
       "      <td>6.178829</td>\n",
       "      <td>7.495</td>\n",
       "      <td>69.968</td>\n",
       "      <td>9.335290</td>\n",
       "    </tr>\n",
       "    <tr>\n",
       "      <th>218235</th>\n",
       "      <td>1.432000e+11</td>\n",
       "      <td>19.029769</td>\n",
       "      <td>7.987</td>\n",
       "      <td>106.498</td>\n",
       "      <td>13.333918</td>\n",
       "    </tr>\n",
       "    <tr>\n",
       "      <th>218236</th>\n",
       "      <td>5.131000e+10</td>\n",
       "      <td>1.858878</td>\n",
       "      <td>9.309</td>\n",
       "      <td>75.634</td>\n",
       "      <td>8.124825</td>\n",
       "    </tr>\n",
       "  </tbody>\n",
       "</table>\n",
       "<p>200856 rows × 5 columns</p>\n",
       "</div>"
      ],
      "text/plain": [
       "                  Mv          c      Rs       Rv        cRc\n",
       "1       1.000000e+12   4.583714  29.197  203.578   6.972566\n",
       "2       7.482000e+10   5.922221   9.553   85.770   8.978331\n",
       "3       7.268000e+10   7.803370   6.676   84.946  12.724086\n",
       "5       7.910000e+10   5.002708  11.001   87.374   7.942369\n",
       "6       5.772000e+10   2.208732  17.093   78.663   4.602059\n",
       "...              ...        ...     ...      ...        ...\n",
       "218231  1.924000e+10   1.859090  12.219   54.542   4.463704\n",
       "218232  4.105000e+11  45.723729   8.830  151.269  17.131257\n",
       "218233  4.062000e+10   6.178829   7.495   69.968   9.335290\n",
       "218235  1.432000e+11  19.029769   7.987  106.498  13.333918\n",
       "218236  5.131000e+10   1.858878   9.309   75.634   8.124825\n",
       "\n",
       "[200856 rows x 5 columns]"
      ]
     },
     "execution_count": 402,
     "metadata": {},
     "output_type": "execute_result"
    }
   ],
   "source": [
    "df"
   ]
  },
  {
   "cell_type": "code",
   "execution_count": 403,
   "id": "wireless-programming",
   "metadata": {},
   "outputs": [],
   "source": [
    "bins= np.logspace(9,15,50)"
   ]
  },
  {
   "cell_type": "code",
   "execution_count": 404,
   "id": "packed-correction",
   "metadata": {},
   "outputs": [],
   "source": [
    "df_grpd = df.groupby(pd.cut(df.Mv,bins))"
   ]
  },
  {
   "cell_type": "code",
   "execution_count": 405,
   "id": "handed-construction",
   "metadata": {},
   "outputs": [],
   "source": [
    "df_med = df_grpd.median()\n",
    "df_1sig_l = df_grpd.quantile(.16)\n",
    "df_1sig_r = df_grpd.quantile(.84)"
   ]
  },
  {
   "cell_type": "code",
   "execution_count": null,
   "id": "amino-beaver",
   "metadata": {},
   "outputs": [],
   "source": []
  },
  {
   "cell_type": "code",
   "execution_count": 406,
   "id": "needed-prisoner",
   "metadata": {},
   "outputs": [],
   "source": [
    "# df_med"
   ]
  },
  {
   "cell_type": "code",
   "execution_count": 414,
   "id": "cubic-bearing",
   "metadata": {},
   "outputs": [
    {
     "data": {
      "text/plain": [
       "Text(0, 0.5, 'c')"
      ]
     },
     "execution_count": 414,
     "metadata": {},
     "output_type": "execute_result"
    },
    {
     "data": {
      "image/png": "[encoded data removed]",
      "text/plain": [
       "<Figure size 840x840 with 1 Axes>"
      ]
     },
     "metadata": {
      "needs_background": "light"
     },
     "output_type": "display_data"
    }
   ],
   "source": [
    "plt.figure(dpi=120, figsize=(7,7))\n",
    "plt.plot(df_med.Mv, df_med.c, 'r')\n",
    "plt.plot(df_med.Mv, df_med.cRc, 'g')\n",
    "plt.plot(df_med.Mv, df_1sig_l.cRc, 'g--')\n",
    "plt.plot(df_med.Mv, df_1sig_r.cRc, 'g--')\n",
    "plt.plot(df_med.Mv, df_1sig_l.c, 'r--')\n",
    "plt.plot(df_med.Mv, df_1sig_r.c, 'r--')\n",
    "# plt.loglog(Mv*1e10, c, 'o')\n",
    "plt.xscale('log')\n",
    "# plt.yscale('log')\n",
    "# plt.xlim(5e10)\n",
    "plt.ylim(3,30)\n",
    "plt.xlabel('Mass $M_v$')\n",
    "plt.ylabel('c')\n",
    "# plt.savefig('plots/M-conc_RS.pdf')"
   ]
  },
  {
   "cell_type": "code",
   "execution_count": null,
   "id": "biological-graphic",
   "metadata": {},
   "outputs": [],
   "source": []
  },
  {
   "cell_type": "code",
   "execution_count": null,
   "id": "palestinian-customer",
   "metadata": {},
   "outputs": [],
   "source": []
  }
 ],
 "metadata": {
  "kernelspec": {
   "display_name": "Python 3",
   "language": "python",
   "name": "python3"
  },
  "language_info": {
   "codemirror_mode": {
    "name": "ipython",
    "version": 3
   },
   "file_extension": ".py",
   "mimetype": "text/x-python",
   "name": "python",
   "nbconvert_exporter": "python",
   "pygments_lexer": "ipython3",
   "version": "3.9.2"
  }
 },
 "nbformat": 4,
 "nbformat_minor": 5
}
